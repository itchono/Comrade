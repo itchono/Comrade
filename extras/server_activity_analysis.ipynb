{
 "metadata": {
  "language_info": {
   "codemirror_mode": {
    "name": "ipython",
    "version": 3
   },
   "file_extension": ".py",
   "mimetype": "text/x-python",
   "name": "python",
   "nbconvert_exporter": "python",
   "pygments_lexer": "ipython3",
   "version": "3.8.2-final"
  },
  "orig_nbformat": 2,
  "kernelspec": {
   "name": "python38264bitb8ae3d115e5f46048cb871379b99d2ad",
   "display_name": "Python 3.8.2 64-bit"
  }
 },
 "nbformat": 4,
 "nbformat_minor": 2,
 "cells": [
  {
   "cell_type": "markdown",
   "metadata": {},
   "source": [
    "# Server Activity Analysis\n",
    "\n",
    "This is a study of Iraq BTW's activity data over a period of time.\n",
    "\n",
    "This version (Published Sep 5) details around half a day of activity."
   ]
  },
  {
   "cell_type": "code",
   "execution_count": null,
   "metadata": {
    "tags": []
   },
   "outputs": [],
   "source": [
    "from pymongo import MongoClient\n",
    "import pymongo\n",
    "from matplotlib import pyplot as plt\n",
    "import matplotlib.dates as md\n",
    "\n",
    "import os, dotenv, datetime, pytz\n",
    "\n",
    "dotenv.load_dotenv()\n",
    "mongo_client = MongoClient(os.environ.get('MONGOKEY'))\n",
    "DB = mongo_client[mongo_client.list_database_names()[0]]\n",
    "print(f\"MongoDB Atlas Connected to Database: {mongo_client.list_database_names()[0]}\")"
   ]
  },
  {
   "cell_type": "markdown",
   "metadata": {},
   "source": [
    "## Storage\n",
    "\n",
    "Using MongoDB, we store the activity logs, produced by the bot, which includes:\n",
    "\n",
    "* Number of people online\n",
    "* Number of messages sent over time\n",
    "* Number of messages sent per person\n",
    "\n",
    "\n",
    "Therefore, we are to retrieve this information"
   ]
  },
  {
   "cell_type": "markdown",
   "metadata": {},
   "source": [
    "## Data Pull\n",
    "Pull collection data from MongoDB; **do this when you want to refresh!**"
   ]
  },
  {
   "cell_type": "code",
   "execution_count": null,
   "metadata": {
    "tags": []
   },
   "outputs": [],
   "source": [
    "collection = DB[\"activitydata\"]\n",
    "entries = collection.find({})\n",
    "\n",
    "print(f\"Number of entries: {len(list(entries))}\")\n",
    "\n",
    "times = []\n",
    "onlinepeople = []\n",
    "messagevolume = []\n",
    "cumulativemsgs = [0]\n",
    "\n",
    "bars = {}\n",
    "\n",
    "tz = pytz.timezone(\"US/Eastern\")\n",
    "\n",
    "for t in list(collection.find({})):\n",
    "    times.append(md.date2num(t[\"time\"]))\n",
    "    onlinepeople.append(t[\"online-members\"])\n",
    "    messagevolume.append(t[\"messages-sent\"])\n",
    "    cumulativemsgs.append(cumulativemsgs[-1] + t[\"messages-sent\"])\n",
    "\n",
    "    for person in t[\"quantities\"]:\n",
    "        try: bars[person] += t[\"quantities\"][person]\n",
    "        except: bars[person] = t[\"quantities\"][person]\n",
    "\n",
    "print(f\"Last updated: {datetime.datetime.now(tz=tz)}\")\n"
   ]
  },
  {
   "cell_type": "markdown",
   "metadata": {},
   "source": [
    "## Data Processing\n",
    "\n",
    "Sift through the database and locate all of the time entries\n",
    "\n",
    "## Plotting\n",
    "\n",
    "Using `matplotlib` to produce a time graph"
   ]
  },
  {
   "cell_type": "markdown",
   "metadata": {},
   "source": [
    "## Online Members"
   ]
  },
  {
   "cell_type": "code",
   "execution_count": null,
   "metadata": {
    "tags": []
   },
   "outputs": [],
   "source": [
    "fig = plt.figure()\n",
    "\n",
    "ax = fig.add_subplot(111)\n",
    "\n",
    "ax.set_title(\"Number of Online Members on Iraq BTW\")\n",
    "ax.plot_date(times, onlinepeople, \"-\")\n",
    "\n",
    "ax.set_ylabel(\"Number of Members (Human, Online)\")\n",
    "ax.set_xlabel(\"Time\")\n",
    "\n",
    "xfmt = md.DateFormatter('%H:%M', tz=tz)\n",
    "ax.xaxis.set_major_formatter(xfmt)\n",
    "\n",
    "ax.grid()\n",
    "\n"
   ]
  },
  {
   "cell_type": "markdown",
   "metadata": {},
   "source": [
    "## Message Volume\n",
    "--> Number of messages sent in the last 10 minutes"
   ]
  },
  {
   "cell_type": "code",
   "execution_count": null,
   "metadata": {},
   "outputs": [],
   "source": [
    "fig = plt.figure()\n",
    "\n",
    "ax = fig.add_subplot(111)\n",
    "\n",
    "ax.set_title(\"Message Volume\")\n",
    "ax.plot_date(times, messagevolume, \"-\")\n",
    "\n",
    "ax.set_ylabel(\"Number of Messages Sent in Time Window\")\n",
    "ax.set_xlabel(\"Time\")\n",
    "\n",
    "xfmt = md.DateFormatter('%H:%M', tz=tz)\n",
    "ax.xaxis.set_major_formatter(xfmt)\n",
    "\n",
    "\n",
    "ax.grid()"
   ]
  },
  {
   "cell_type": "code",
   "execution_count": null,
   "metadata": {},
   "outputs": [],
   "source": [
    "fig = plt.figure()\n",
    "\n",
    "ax = fig.add_subplot(111)\n",
    "\n",
    "ax.set_title(\"Cumulative Messages\")\n",
    "ax.plot_date(times, cumulativemsgs[1:], \"-\")\n",
    "\n",
    "ax.set_ylabel(\"Cumulative Number of Messages\")\n",
    "ax.set_xlabel(\"Time\")\n",
    "\n",
    "xfmt = md.DateFormatter('%H:%M', tz=tz)\n",
    "ax.xaxis.set_major_formatter(xfmt)\n",
    "\n",
    "\n",
    "ax.grid()"
   ]
  },
  {
   "cell_type": "markdown",
   "metadata": {},
   "source": [
    "## Instantaneous Rate of messaging\n",
    "\n",
    "We can use SciPy's Spline interpolator to get an approximate measure of the instantaneous rate of messaging"
   ]
  },
  {
   "cell_type": "code",
   "execution_count": null,
   "metadata": {},
   "outputs": [],
   "source": [
    "from scipy.interpolate import UnivariateSpline\n",
    "import numpy as np\n",
    "\n",
    "x = times\n",
    "y = cumulativemsgs[1:]\n",
    "\n",
    "fc = UnivariateSpline(x, y)\n",
    "\n",
    "xs = np.linspace(x[0], x[-1], num=100)\n",
    "\n",
    "fig = plt.figure()\n",
    "\n",
    "ax = fig.add_subplot(111)\n",
    "\n",
    "ax.set_title(\"Approx. Cumulative Messages\")\n",
    "ax.plot_date(xs, fc(xs), \"-\")\n",
    "\n",
    "ax.set_ylabel(\"Number of Messages\")\n",
    "ax.set_xlabel(\"Time\")\n",
    "\n",
    "xfmt = md.DateFormatter('%H:%M', tz=tz)\n",
    "ax.xaxis.set_major_formatter(xfmt)\n",
    "\n",
    "\n",
    "ax.grid()"
   ]
  },
  {
   "cell_type": "code",
   "execution_count": null,
   "metadata": {},
   "outputs": [],
   "source": [
    "fig = plt.figure()\n",
    "\n",
    "ax = fig.add_subplot(111)\n",
    "\n",
    "ax.set_title(\"Approx. Rate of Messages\")\n",
    "ax.plot_date(xs, fc.derivative()(xs)/1440, \"-\")\n",
    "# Need to divide by 1440 -- number of minutes per day\n",
    "\n",
    "ax.set_ylabel(\"Messages per Minute\")\n",
    "ax.set_xlabel(\"Time\")\n",
    "\n",
    "xfmt = md.DateFormatter('%H:%M', tz=tz)\n",
    "ax.xaxis.set_major_formatter(xfmt)\n",
    "\n",
    "\n",
    "ax.grid()"
   ]
  },
  {
   "cell_type": "markdown",
   "metadata": {},
   "source": [
    "## Messages by person\n",
    "\n",
    "Using discord.py we can take the names of the individuals from their id and produce plots"
   ]
  },
  {
   "cell_type": "code",
   "execution_count": null,
   "metadata": {},
   "outputs": [],
   "source": [
    "import pickle\n",
    "\n",
    "with open(\"names\", \"rb\") as f:\n",
    "    names = pickle.load(f)"
   ]
  },
  {
   "cell_type": "code",
   "execution_count": null,
   "metadata": {
    "tags": []
   },
   "outputs": [],
   "source": [
    "fig = plt.figure()\n",
    "\n",
    "ax = fig.add_subplot(111)\n",
    "\n",
    "xs = np.arange(len(bars))\n",
    "\n",
    "sorted_keys = [e for _, e in sorted(zip(bars.values(), bars.keys()))]\n",
    "\n",
    "ax.set_title(\"Number of Messages by Person\")\n",
    "ax.barh(xs, sorted(bars.values()))\n",
    "\n",
    "ax.set_yticks(np.arange(len(bars)))\n",
    "ax.set_yticklabels([names[int(i)] for i in sorted_keys])\n",
    "\n",
    "plt.show()"
   ]
  },
  {
   "cell_type": "code",
   "execution_count": null,
   "metadata": {},
   "outputs": [],
   "source": []
  }
 ]
}